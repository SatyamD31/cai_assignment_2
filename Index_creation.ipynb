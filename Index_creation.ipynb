{
 "cells": [
  {
   "cell_type": "code",
   "execution_count": 3,
   "metadata": {},
   "outputs": [
    {
     "data": {
      "text/html": [
       "<div>\n",
       "<style scoped>\n",
       "    .dataframe tbody tr th:only-of-type {\n",
       "        vertical-align: middle;\n",
       "    }\n",
       "\n",
       "    .dataframe tbody tr th {\n",
       "        vertical-align: top;\n",
       "    }\n",
       "\n",
       "    .dataframe thead th {\n",
       "        text-align: right;\n",
       "    }\n",
       "</style>\n",
       "<table border=\"1\" class=\"dataframe\">\n",
       "  <thead>\n",
       "    <tr style=\"text-align: right;\">\n",
       "      <th></th>\n",
       "      <th>Standalone Yearly Results</th>\n",
       "      <th>Dec '23</th>\n",
       "      <th>Dec '22</th>\n",
       "      <th>Dec '21</th>\n",
       "      <th>Dec '20</th>\n",
       "      <th>Dec '19</th>\n",
       "    </tr>\n",
       "  </thead>\n",
       "  <tbody>\n",
       "    <tr>\n",
       "      <th>0</th>\n",
       "      <td>Net Sales/Income from operations</td>\n",
       "      <td>19126.3</td>\n",
       "      <td>16787.43</td>\n",
       "      <td>14633.72</td>\n",
       "      <td>13290.16</td>\n",
       "      <td>12295.27</td>\n",
       "    </tr>\n",
       "    <tr>\n",
       "      <th>1</th>\n",
       "      <td>Other Operating Income</td>\n",
       "      <td>--</td>\n",
       "      <td>77.63</td>\n",
       "      <td>75.69</td>\n",
       "      <td>59.87</td>\n",
       "      <td>73.63</td>\n",
       "    </tr>\n",
       "    <tr>\n",
       "      <th>2</th>\n",
       "      <td>Total Income From Operations</td>\n",
       "      <td>19126.3</td>\n",
       "      <td>16865.06</td>\n",
       "      <td>14709.41</td>\n",
       "      <td>13350.03</td>\n",
       "      <td>12368.9</td>\n",
       "    </tr>\n",
       "    <tr>\n",
       "      <th>3</th>\n",
       "      <td>EXPENDITURE</td>\n",
       "      <td>NaN</td>\n",
       "      <td>NaN</td>\n",
       "      <td>NaN</td>\n",
       "      <td>NaN</td>\n",
       "      <td>NaN</td>\n",
       "    </tr>\n",
       "    <tr>\n",
       "      <th>4</th>\n",
       "      <td>Consumption of Raw Materials</td>\n",
       "      <td>8054.95</td>\n",
       "      <td>7652.11</td>\n",
       "      <td>6154.1</td>\n",
       "      <td>5554.24</td>\n",
       "      <td>5150.3</td>\n",
       "    </tr>\n",
       "  </tbody>\n",
       "</table>\n",
       "</div>"
      ],
      "text/plain": [
       "          Standalone Yearly Results  Dec '23   Dec '22   Dec '21   Dec '20  \\\n",
       "0  Net Sales/Income from operations  19126.3  16787.43  14633.72  13290.16   \n",
       "1            Other Operating Income       --     77.63     75.69     59.87   \n",
       "2      Total Income From Operations  19126.3  16865.06  14709.41  13350.03   \n",
       "3                       EXPENDITURE      NaN       NaN       NaN       NaN   \n",
       "4      Consumption of Raw Materials  8054.95   7652.11    6154.1   5554.24   \n",
       "\n",
       "    Dec '19  \n",
       "0  12295.27  \n",
       "1     73.63  \n",
       "2   12368.9  \n",
       "3       NaN  \n",
       "4    5150.3  "
      ]
     },
     "execution_count": 3,
     "metadata": {},
     "output_type": "execute_result"
    }
   ],
   "source": [
    "# index_creator.py\n",
    "import pandas as pd\n",
    "import faiss\n",
    "import numpy as np\n",
    "from sentence_transformers import SentenceTransformer\n",
    "import pickle\n",
    "\n",
    "# Load dataset\n",
    "file_path = r\"C:\\Users\\Dell\\Downloads\\CAI_RAG\\DATA\\Nestle_Financtial_report_till2023.xlsx\"\n",
    "df = pd.read_excel(file_path)\n",
    "df.head()"
   ]
  },
  {
   "cell_type": "code",
   "execution_count": 4,
   "metadata": {},
   "outputs": [],
   "source": [
    "\n",
    "# Initialize SBERT model\n",
    "model = SentenceTransformer(\"all-MiniLM-L6-v2\")\n",
    "\n",
    "# Chunking mechanism: Sentence-based\n",
    "sentences = []\n",
    "index_map = {}\n"
   ]
  },
  {
   "cell_type": "code",
   "execution_count": 3,
   "metadata": {},
   "outputs": [
    {
     "name": "stdout",
     "output_type": "stream",
     "text": [
      "Indexing completed!\n"
     ]
    }
   ],
   "source": [
    "\n",
    "for index, row in df.iterrows():\n",
    "    for col in df.columns[1:]:  # Assuming first column is a unique identifier\n",
    "        text = f\"{row[df.columns[0]]} - year  {col} is: {row[col]}\"\n",
    "        sentences.append(text)\n",
    "        index_map[len(sentences) - 1] =text\n",
    "\n",
    "\n",
    "# Generate embeddings\n",
    "embeddings = model.encode(sentences, convert_to_numpy=True)\n",
    "\n",
    "# Create FAISS index\n",
    "dim = embeddings.shape[1]\n",
    "faiss_index = faiss.IndexFlatL2(dim)\n",
    "faiss_index.add(embeddings)\n",
    "\n",
    "# Save index and mapping\n",
    "faiss.write_index(faiss_index, \"financial_faiss.index\")\n",
    "with open(\"index_map.pkl\", \"wb\") as f:\n",
    "    pickle.dump(index_map, f)\n",
    "\n",
    "print(\"Indexing completed!\")\n",
    "\n"
   ]
  },
  {
   "cell_type": "code",
   "execution_count": 7,
   "metadata": {},
   "outputs": [
    {
     "name": "stdout",
     "output_type": "stream",
     "text": [
      "Top results: [\"Total Income From Operations - year  Dec '20 is: 13350.03\", \"Total Income From Operations - year  Dec '22 is: 16865.06\", \"Total Income From Operations - year  Dec '19 is: 12368.9\", \"Total Income From Operations - year  Dec '21 is: 14709.41\", \"Other Income - year  Dec '20 is: 145.85\"]\n"
     ]
    }
   ],
   "source": [
    "# retriever.py\n",
    "import faiss\n",
    "import numpy as np\n",
    "import pickle\n",
    "from sentence_transformers import SentenceTransformer\n",
    "\n",
    "# Load FAISS index and index map\n",
    "faiss_index = faiss.read_index(\"financial_faiss.index\")\n",
    "with open(\"index_map.pkl\", \"rb\") as f:\n",
    "    index_map = pickle.load(f)\n",
    "\n",
    "# Load SBERT model\n",
    "model = SentenceTransformer(\"all-MiniLM-L6-v2\")\n",
    "\n",
    "def query_faiss(query, top_k=5):\n",
    "    query_embedding = model.encode([query], convert_to_numpy=True)\n",
    "    distances, indices = faiss_index.search(query_embedding, top_k)\n",
    "    results = []\n",
    "    for idx in indices[0]:\n",
    "        if idx in index_map:\n",
    "            results.append(index_map[idx])\n",
    "    \n",
    "    return results\n",
    "\n",
    "# Example usage\n",
    "if __name__ == \"__main__\":\n",
    "    query = \"Total income is\"\n",
    "    results = query_faiss(query)\n",
    "    print(\"Top results:\", results)\n"
   ]
  },
  {
   "cell_type": "code",
   "execution_count": 8,
   "metadata": {},
   "outputs": [
    {
     "ename": "",
     "evalue": "",
     "output_type": "error",
     "traceback": [
      "\u001b[1;31mThe Kernel crashed while executing code in the current cell or a previous cell. \n",
      "\u001b[1;31mPlease review the code in the cell(s) to identify a possible cause of the failure. \n",
      "\u001b[1;31mClick <a href='https://aka.ms/vscodeJupyterKernelCrash'>here</a> for more info. \n",
      "\u001b[1;31mView Jupyter <a href='command:jupyter.viewOutput'>log</a> for further details."
     ]
    }
   ],
   "source": [
    "from transformers import AutoModelForCausalLM, AutoTokenizer\n",
    "\n",
    "# Load Qwen model\n",
    "qwen_model = AutoModelForCausalLM.from_pretrained(\"Qwen/Qwen-7B\", trust_remote_code=True)\n",
    "qwen_tokenizer = AutoTokenizer.from_pretrained(\"Qwen/Qwen-7B\", trust_remote_code=True)\n",
    "\n",
    "# Function to generate answers\n",
    "def generate_answer(context, question):\n",
    "    input_text = f\"Context: {context}\\nQuestion: {question}\\nAnswer:\"\n",
    "    inputs = qwen_tokenizer.encode(input_text, return_tensors=\"pt\")\n",
    "    outputs = qwen_model.generate(inputs, max_length=100)\n",
    "    return qwen_tokenizer.decode(outputs[0], skip_special_tokens=True)\n",
    "\n",
    "# Example: Answering a financial question\n",
    "query = \"What was the Net Sales/Income from operations in Dec'23?\"\n",
    "retrieved_docs = query_faiss(query)\n",
    "context = \" \".join(retrieved_docs)\n",
    "\n",
    "answer = generate_answer(context, query)\n",
    "print(\"💡 Answer:\", answer)\n"
   ]
  },
  {
   "cell_type": "code",
   "execution_count": null,
   "metadata": {},
   "outputs": [],
   "source": []
  }
 ],
 "metadata": {
  "kernelspec": {
   "display_name": "myproject",
   "language": "python",
   "name": "python3"
  },
  "language_info": {
   "codemirror_mode": {
    "name": "ipython",
    "version": 3
   },
   "file_extension": ".py",
   "mimetype": "text/x-python",
   "name": "python",
   "nbconvert_exporter": "python",
   "pygments_lexer": "ipython3",
   "version": "3.9.13"
  }
 },
 "nbformat": 4,
 "nbformat_minor": 2
}
